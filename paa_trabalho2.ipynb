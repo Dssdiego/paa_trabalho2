{
  "nbformat": 4,
  "nbformat_minor": 0,
  "metadata": {
    "colab": {
      "name": "paa-trabalho2.ipynb",
      "provenance": [],
      "collapsed_sections": [],
      "authorship_tag": "ABX9TyPrIM4NIiXkwNY7uZogzPvb",
      "include_colab_link": true
    },
    "kernelspec": {
      "name": "python3",
      "display_name": "Python 3"
    },
    "accelerator": "TPU"
  },
  "cells": [
    {
      "cell_type": "markdown",
      "metadata": {
        "id": "view-in-github",
        "colab_type": "text"
      },
      "source": [
        "<a href=\"https://colab.research.google.com/github/Dssdiego/paa_trabalho2/blob/main/paa_trabalho2.ipynb\" target=\"_parent\"><img src=\"https://colab.research.google.com/assets/colab-badge.svg\" alt=\"Open In Colab\"/></a>"
      ]
    },
    {
      "cell_type": "markdown",
      "metadata": {
        "id": "5eh1iZOT1wwf"
      },
      "source": [
        "# Trabalho 2 - Tempos de Execução\n",
        "\n",
        "**Projeto e Análise de Algoritmos** </br>\n",
        "**Alunos:** Diego S. Seabra (0040251); Manoel S. Seabra (0039949) </br>"
      ]
    },
    {
      "cell_type": "markdown",
      "metadata": {
        "id": "lQ_A809C3FQu"
      },
      "source": [
        "## Introdução\n",
        "\n",
        "Neste trabalho, fizemos a implementação e análise de 4 algoritmos de ordenação, sendo eles:\n",
        "\n",
        "- Insertion Sort\n",
        "- Selection Sort\n",
        "- Merge Sort\n",
        "- Heap Sort \n",
        "\n",
        "Para cada um destes algoritmos, foram criados variados tamanhos de instâncias: \n",
        "\n",
        "- 125 mil\n",
        "- 250 mil\n",
        "- 500 mil\n",
        "- 1 milhão \n",
        "- 2 milhões \n",
        "\n",
        "Também foram criadas distribuições diferentes:\n",
        "\n",
        "- Crescente\n",
        "- Decrescente\n",
        "- Aleatório\n",
        "- 50% Ordenado"
      ]
    },
    {
      "cell_type": "markdown",
      "metadata": {
        "id": "RZSXi2ND3S9h"
      },
      "source": [
        "## Desenvolvimento\n",
        "\n",
        "Começamos o desenvolvimento importando as bibliotecas a serem utilizadas no projeto e implementando os métodos de ordenação"
      ]
    },
    {
      "cell_type": "code",
      "metadata": {
        "id": "a1pxWO6YsJwG"
      },
      "source": [
        "# Importações\n",
        "import time\n",
        "import pandas as pd\n",
        "import numpy as np\n",
        "import seaborn as sns\n",
        "import matplotlib.pyplot as plt\n",
        "import multiprocessing\n",
        "import requests\n",
        "\n",
        "from numpy import random\n",
        "from PIL import Image"
      ],
      "execution_count": 72,
      "outputs": []
    },
    {
      "cell_type": "code",
      "metadata": {
        "id": "miAlKPT2tQKS"
      },
      "source": [
        "# Definições dos algoritmos\n",
        "\n",
        "##################\n",
        "# INSERTION SORT #\n",
        "##################\n",
        "\n",
        "def insertionSort(arr): \n",
        "\t# Percorre de 1 até o tamanho do arranjo\n",
        "\tfor b in range(1, len(arr)): \n",
        "\t\tchave = arr[b] \n",
        "\t\ti = b - 1\n",
        "\n",
        "\t\twhile i >= 0 and chave < arr[i]: \n",
        "\t\t\t\tarr[i + 1] = arr[i] \n",
        "\t\t\t\ti -= 1\n",
        "\n",
        "\t\tarr[i + 1] = chave \n",
        "\n",
        "##################\n",
        "# SELECTION SORT #\n",
        "##################\n",
        "\n",
        "def selectionSort(arr):\n",
        "    # Percorre de 1 até o tamanho do arranjo\n",
        "    for i in range(0, len(arr)):\n",
        "        indiceMin = i\n",
        "\n",
        "        # Encontra o índice do menor elemento no arranjo restante\n",
        "        for j in range(i + 1, len(arr)):\n",
        "            if arr[j] < arr[indiceMin]:\n",
        "                indiceMin = j\n",
        "\n",
        "        # Troca o elemento mínimo com o primeiro elemento\n",
        "        arr[i] = arr[indiceMin]\n",
        "        arr[indiceMin] = arr[i]\n",
        "\n",
        "##############\n",
        "# MERGE SORT #\n",
        "##############\n",
        "\n",
        "def mergeSort(arr):\n",
        "    # Começa a ordenar a partir do primeiro elemento\n",
        "    if len(arr) > 1:\n",
        "\n",
        "      # Meio do arranjo\n",
        "      mid = len(arr) // 2 # (divisão com retorno de número inteiro)\n",
        "\n",
        "      # Parte da esquerda\n",
        "      esquerda = arr[:mid]\n",
        "\n",
        "      # Parte da direita\n",
        "      direita = arr[mid:]\n",
        "\n",
        "      # Ordena a parte da esquerda\n",
        "      mergeSort(esquerda)\n",
        "\n",
        "      # Ordena a parte da direita\n",
        "      mergeSort(direita)\n",
        "\n",
        "      # Inicialização de variáveis\n",
        "      i = j = k = 0\n",
        "\n",
        "      # Copia para os arranjos temporários\n",
        "      while i < len(esquerda) and j < len(direita):\n",
        "        if esquerda[i] < direita[j]:\n",
        "          arr[k] = esquerda[i]\n",
        "          i += 1\n",
        "        else:\n",
        "          arr[k] = direita[j]\n",
        "          j += 1\n",
        "        k += 1\n",
        "\n",
        "      # Verifica se há algum elemento faltando (arranjo da esquerda)\n",
        "      while i < len(esquerda):\n",
        "        arr[k] = esquerda[i]\n",
        "        i += 1\n",
        "        k += 1\n",
        "\n",
        "      # Verifica se há algum elemento faltando (arranjo da direita)\n",
        "      while j < len(direita):\n",
        "        arr[k] = direita[j]\n",
        "        j += 1\n",
        "        k += 1\n",
        "\n",
        "#############\n",
        "# HEAP SORT #\n",
        "#############\n",
        "\n",
        "def heapMax(arr, n, i):\n",
        "    # Inicializa o maior elemento como a raiz da árvore\n",
        "    maior = i       \n",
        "\n",
        "    # Esquerda = 2*i + 1\n",
        "    esquerda = 2 * i + 1\n",
        "\n",
        "    # Direita = 2*i + 2\n",
        "    direita = 2 * i + 2\n",
        " \n",
        "    # Verifica se o filho da esquerda existe e se é maior que a raiz\n",
        "    if esquerda < n and arr[maior] < arr[esquerda]:\n",
        "        maior = esquerda\n",
        " \n",
        "    # Verifica se o filho da direita existe e se é maior que a raiz\n",
        "    if direita < n and arr[maior] < arr[direita]:\n",
        "        maior = direita\n",
        " \n",
        "    # Troca da raiz\n",
        "    if maior != i:\n",
        "\n",
        "        # Troca os elementos\n",
        "        arr[i] = arr[maior]\n",
        "        arr[maior] = arr[i]\n",
        " \n",
        "        # Deixa a raiz com heap máximo\n",
        "        heapMax(arr, n, maior)\n",
        "\n",
        "def heapSort(arr):\n",
        "    # N = tamanho do array\n",
        "    n = len(arr)\n",
        " \n",
        "    # Contrói o heap máximo\n",
        "    for i in range(n // 2 - 1, -1, -1):\n",
        "        heapMax(arr, n, i)\n",
        " \n",
        "    # Extrai os elementos\n",
        "    for i in range(n-1, 0, -1):\n",
        "        arr[i], arr[0] = arr[0], arr[i]\n",
        "        \n",
        "        # Troca os elementos\n",
        "        arr[i] = arr[0]\n",
        "        arr[0] = arr[i]\n",
        "\n",
        "        heapMax(arr, i, 0)"
      ],
      "execution_count": 59,
      "outputs": []
    },
    {
      "cell_type": "markdown",
      "metadata": {
        "id": "vhUr2qdz5CIv"
      },
      "source": [
        "A seguir, são criadas listas para armazenamento das instâncias, dos algoritmos e das distribuições, onde:\n",
        "\n",
        "- C = Crescente\n",
        "- D = Decrescente\n",
        "- A = Aleatório\n",
        "- M = 50% Ordenado"
      ]
    },
    {
      "cell_type": "code",
      "metadata": {
        "id": "U3jTF2XQsbh_"
      },
      "source": [
        "# Criação das listas (instâncias, algoritmos e distribuições)\n",
        "instancias = [2000000, 1000000, 500000, 250000, 125000]\n",
        "algoritmos = [insertionSort, selectionSort, mergeSort, heapSort]\n",
        "distribuicoes = ['C', 'D', 'A', 'M'] # Crescente, Decrescente, Aleatório, 50% ordenado (respectivamente)"
      ],
      "execution_count": 60,
      "outputs": []
    },
    {
      "cell_type": "markdown",
      "metadata": {
        "id": "dC8s470B5Pxf"
      },
      "source": [
        "Como a análise precisa demonstrar resultados, criamos uma estrutura \"dados\" para armazenar as colunas da tabela de resultado. \n",
        "\n",
        "Esta tabela, posteriomente, será utilizada para a criação de gráficos/análises de performance"
      ]
    },
    {
      "cell_type": "code",
      "metadata": {
        "id": "uK-p7l59sc-O"
      },
      "source": [
        "# Inicializa o array de dados (contém as colunas da tabela de resultado)\n",
        "dados = {'algoritmo': [], 'instancia': [], 'distribuicao': [], 'tempo_execucao_s': [], 'tempo_execucao_ms': []}"
      ],
      "execution_count": 61,
      "outputs": []
    },
    {
      "cell_type": "markdown",
      "metadata": {
        "id": "4RAAWSqN1Aek"
      },
      "source": [
        "Para evitar que o algoritmo que estiver sendo executado fique rodando indefinidamente, foi criada a variável de *timeout* que finaliza a execução do algoritmo selecionado após *timeout* minutos.\n",
        "\n",
        "*Obs.: Caso queira um timeout infinito, use timeout = 0*"
      ]
    },
    {
      "cell_type": "code",
      "metadata": {
        "cellView": "form",
        "id": "kP_4ZO9y0hC8"
      },
      "source": [
        "# Define o tempo de timeout (em minutos)\n",
        "timeout =  0#@param {type:\"integer\"}"
      ],
      "execution_count": 62,
      "outputs": []
    },
    {
      "cell_type": "markdown",
      "metadata": {
        "id": "j5ul-AQL5ptG"
      },
      "source": [
        "Então, a fins de simplicidade, percorremos a lista de algoritmos, a lista de instâncias e a lista de distribuições, gerando o arquivo \"**tempo_execucao.csv**\""
      ]
    },
    {
      "cell_type": "code",
      "metadata": {
        "colab": {
          "base_uri": "https://localhost:8080/"
        },
        "id": "C0vdGr6wsp21",
        "outputId": "3d43b6d2-ced4-4b78-f8ac-32ceab56a56b"
      },
      "source": [
        "# Percorre a lista de algoritmos\n",
        "for algo in algoritmos:\n",
        "    # Percorre a lista de instancias\n",
        "    for inst in instancias:\n",
        "        # Percorre a lista de distribuições\n",
        "        for distrib in distribuicoes:\n",
        "            if distrib == 'C': # Crescente\n",
        "                dist = np.arange(inst)\n",
        "            if distrib == 'D': # Decrescente\n",
        "                dist = np.arange(inst)[::-1]\n",
        "            if distrib == 'A': # Aleatório\n",
        "                dist = random.randint(inst, size=(inst))\n",
        "            if distrib == 'M': # 50% Ordenado\n",
        "                meioOrdenado = np.arange(inst)[:int(inst/2)]\n",
        "                meioAleatorio = random.randint(int(inst/2), size=(int(inst/2)))\n",
        "                dist = np.concatenate((meioOrdenado, meioAleatorio))\n",
        "                \n",
        "            print(algo.__name__, inst, distrib)\n",
        "            dados['algoritmo'].append(algo.__name__) \n",
        "            dados['instancia'].append(inst)\n",
        "            dados['distribuicao'].append(distrib)\n",
        "        \n",
        "            # Inicia o \"relógio\" (cálculo do tempo de execução)\n",
        "            start_time = time.time()\n",
        "                    \n",
        "            # Cria uma thread para execução do algoritmo\n",
        "            if timeout == 0:\n",
        "              algo(dist)\n",
        "            else:\n",
        "              p = multiprocessing.Process(target=algo, name=algo.__name__, args=(dist,))\n",
        "              p.start()\n",
        "              \n",
        "              # Roda a thread com o timeout definido anteriormente\n",
        "              p.join(timeout * 60)\n",
        "            \n",
        "            # Finaliza o \"relógio\" e salva os dados em uma tabela\n",
        "            end_time = time.time()\n",
        "            tempo_execucao = end_time - start_time\n",
        "            dados['tempo_execucao_s'].append(round(tempo_execucao,2))\n",
        "            dados['tempo_execucao_ms'].append(round(tempo_execucao*1000,2))\n",
        "            \n",
        "            # Cria um dataframe\n",
        "            df = pd.DataFrame(dados)\n",
        "\n",
        "            # Salva o resultado em uma tabela \"tempo_execucao.csv\"\n",
        "            df.to_csv('tempo_execucao_execucao.csv')\n",
        "            print('Dados Salvos!')"
      ],
      "execution_count": 63,
      "outputs": [
        {
          "output_type": "stream",
          "text": [
            "insertionSort 20000 C\n",
            "Dados Salvos!\n",
            "insertionSort 20000 D\n",
            "Dados Salvos!\n",
            "insertionSort 20000 A\n",
            "Dados Salvos!\n",
            "insertionSort 20000 M\n",
            "Dados Salvos!\n",
            "insertionSort 10000 C\n",
            "Dados Salvos!\n",
            "insertionSort 10000 D\n",
            "Dados Salvos!\n",
            "insertionSort 10000 A\n",
            "Dados Salvos!\n",
            "insertionSort 10000 M\n",
            "Dados Salvos!\n",
            "insertionSort 5000 C\n",
            "Dados Salvos!\n",
            "insertionSort 5000 D\n",
            "Dados Salvos!\n",
            "insertionSort 5000 A\n",
            "Dados Salvos!\n",
            "insertionSort 5000 M\n",
            "Dados Salvos!\n",
            "insertionSort 2500 C\n",
            "Dados Salvos!\n",
            "insertionSort 2500 D\n",
            "Dados Salvos!\n",
            "insertionSort 2500 A\n",
            "Dados Salvos!\n",
            "insertionSort 2500 M\n",
            "Dados Salvos!\n",
            "insertionSort 1250 C\n",
            "Dados Salvos!\n",
            "insertionSort 1250 D\n",
            "Dados Salvos!\n",
            "insertionSort 1250 A\n",
            "Dados Salvos!\n",
            "insertionSort 1250 M\n",
            "Dados Salvos!\n",
            "selectionSort 20000 C\n",
            "Dados Salvos!\n",
            "selectionSort 20000 D\n",
            "Dados Salvos!\n",
            "selectionSort 20000 A\n",
            "Dados Salvos!\n",
            "selectionSort 20000 M\n",
            "Dados Salvos!\n",
            "selectionSort 10000 C\n",
            "Dados Salvos!\n",
            "selectionSort 10000 D\n",
            "Dados Salvos!\n",
            "selectionSort 10000 A\n",
            "Dados Salvos!\n",
            "selectionSort 10000 M\n",
            "Dados Salvos!\n",
            "selectionSort 5000 C\n",
            "Dados Salvos!\n",
            "selectionSort 5000 D\n",
            "Dados Salvos!\n",
            "selectionSort 5000 A\n",
            "Dados Salvos!\n",
            "selectionSort 5000 M\n",
            "Dados Salvos!\n",
            "selectionSort 2500 C\n",
            "Dados Salvos!\n",
            "selectionSort 2500 D\n",
            "Dados Salvos!\n",
            "selectionSort 2500 A\n",
            "Dados Salvos!\n",
            "selectionSort 2500 M\n",
            "Dados Salvos!\n",
            "selectionSort 1250 C\n",
            "Dados Salvos!\n",
            "selectionSort 1250 D\n",
            "Dados Salvos!\n",
            "selectionSort 1250 A\n",
            "Dados Salvos!\n",
            "selectionSort 1250 M\n",
            "Dados Salvos!\n",
            "mergeSort 20000 C\n",
            "Dados Salvos!\n",
            "mergeSort 20000 D\n",
            "Dados Salvos!\n",
            "mergeSort 20000 A\n",
            "Dados Salvos!\n",
            "mergeSort 20000 M\n",
            "Dados Salvos!\n",
            "mergeSort 10000 C\n",
            "Dados Salvos!\n",
            "mergeSort 10000 D\n",
            "Dados Salvos!\n",
            "mergeSort 10000 A\n",
            "Dados Salvos!\n",
            "mergeSort 10000 M\n",
            "Dados Salvos!\n",
            "mergeSort 5000 C\n",
            "Dados Salvos!\n",
            "mergeSort 5000 D\n",
            "Dados Salvos!\n",
            "mergeSort 5000 A\n",
            "Dados Salvos!\n",
            "mergeSort 5000 M\n",
            "Dados Salvos!\n",
            "mergeSort 2500 C\n",
            "Dados Salvos!\n",
            "mergeSort 2500 D\n",
            "Dados Salvos!\n",
            "mergeSort 2500 A\n",
            "Dados Salvos!\n",
            "mergeSort 2500 M\n",
            "Dados Salvos!\n",
            "mergeSort 1250 C\n",
            "Dados Salvos!\n",
            "mergeSort 1250 D\n",
            "Dados Salvos!\n",
            "mergeSort 1250 A\n",
            "Dados Salvos!\n",
            "mergeSort 1250 M\n",
            "Dados Salvos!\n",
            "heapSort 20000 C\n",
            "Dados Salvos!\n",
            "heapSort 20000 D\n",
            "Dados Salvos!\n",
            "heapSort 20000 A\n",
            "Dados Salvos!\n",
            "heapSort 20000 M\n",
            "Dados Salvos!\n",
            "heapSort 10000 C\n",
            "Dados Salvos!\n",
            "heapSort 10000 D\n",
            "Dados Salvos!\n",
            "heapSort 10000 A\n",
            "Dados Salvos!\n",
            "heapSort 10000 M\n",
            "Dados Salvos!\n",
            "heapSort 5000 C\n",
            "Dados Salvos!\n",
            "heapSort 5000 D\n",
            "Dados Salvos!\n",
            "heapSort 5000 A\n",
            "Dados Salvos!\n",
            "heapSort 5000 M\n",
            "Dados Salvos!\n",
            "heapSort 2500 C\n",
            "Dados Salvos!\n",
            "heapSort 2500 D\n",
            "Dados Salvos!\n",
            "heapSort 2500 A\n",
            "Dados Salvos!\n",
            "heapSort 2500 M\n",
            "Dados Salvos!\n",
            "heapSort 1250 C\n",
            "Dados Salvos!\n",
            "heapSort 1250 D\n",
            "Dados Salvos!\n",
            "heapSort 1250 A\n",
            "Dados Salvos!\n",
            "heapSort 1250 M\n",
            "Dados Salvos!\n"
          ],
          "name": "stdout"
        }
      ]
    },
    {
      "cell_type": "markdown",
      "metadata": {
        "id": "RZYJoyiZ3VOE"
      },
      "source": [
        "## Resultados\n",
        "\n",
        "Os algoritmos foram executados em 2 máquinas diferentes (cada uma de um aluno), que possuem as seguintes configurações."
      ]
    },
    {
      "cell_type": "markdown",
      "metadata": {
        "id": "SBAOFaqEIez1"
      },
      "source": [
        "**Máquina Diego**\n",
        "\n",
        "![alt text](https://raw.githubusercontent.com/Dssdiego/paa_trabalho2/main/images/maquina_diego.png \"Máquina Diego\")\n",
        "\n",
        "**Máquina Manoel**\n",
        "\n",
        "![alt text](https://raw.githubusercontent.com/Dssdiego/paa_trabalho2/main/images/maquina_manoel.png \"Máquina Manoel\")\n"
      ]
    },
    {
      "cell_type": "markdown",
      "metadata": {
        "id": "YnjtX0-gI3Mf"
      },
      "source": [
        "*Obs.: Devido à grande demora na ordenação das grandes instâncias, optamos por apresentar as análises dos algoritmos executados em instâncias fracionadas (20000, 10000, 5000, 2500, 1250)*.\n",
        "\n",
        "## Analisando os dados de ordenação da máquina do *Diego*:"
      ]
    },
    {
      "cell_type": "code",
      "metadata": {
        "id": "FmxnyTYq3fX5",
        "colab": {
          "base_uri": "https://localhost:8080/",
          "height": 419
        },
        "outputId": "076bd825-87ac-44c9-c62c-87b0d3461c17"
      },
      "source": [
        "# Carrega os dados da tabela (para criação dos gráficos)\n",
        "df = pd.read_csv('https://raw.githubusercontent.com/Dssdiego/paa_trabalho2/main/tempo_execucao_medio_diego.csv')\n",
        "df = df.drop(df.columns[0], axis=1) # Elimina a primeira coluna (desnecessária)\n",
        "df"
      ],
      "execution_count": 83,
      "outputs": [
        {
          "output_type": "execute_result",
          "data": {
            "text/html": [
              "<div>\n",
              "<style scoped>\n",
              "    .dataframe tbody tr th:only-of-type {\n",
              "        vertical-align: middle;\n",
              "    }\n",
              "\n",
              "    .dataframe tbody tr th {\n",
              "        vertical-align: top;\n",
              "    }\n",
              "\n",
              "    .dataframe thead th {\n",
              "        text-align: right;\n",
              "    }\n",
              "</style>\n",
              "<table border=\"1\" class=\"dataframe\">\n",
              "  <thead>\n",
              "    <tr style=\"text-align: right;\">\n",
              "      <th></th>\n",
              "      <th>algoritmo</th>\n",
              "      <th>instancia</th>\n",
              "      <th>distribuicao</th>\n",
              "      <th>tempo_execucao_s</th>\n",
              "      <th>tempo_execucao_ms</th>\n",
              "    </tr>\n",
              "  </thead>\n",
              "  <tbody>\n",
              "    <tr>\n",
              "      <th>0</th>\n",
              "      <td>insertionSort</td>\n",
              "      <td>20000</td>\n",
              "      <td>C</td>\n",
              "      <td>0.01</td>\n",
              "      <td>10.98</td>\n",
              "    </tr>\n",
              "    <tr>\n",
              "      <th>1</th>\n",
              "      <td>insertionSort</td>\n",
              "      <td>20000</td>\n",
              "      <td>D</td>\n",
              "      <td>93.37</td>\n",
              "      <td>93366.73</td>\n",
              "    </tr>\n",
              "    <tr>\n",
              "      <th>2</th>\n",
              "      <td>insertionSort</td>\n",
              "      <td>20000</td>\n",
              "      <td>A</td>\n",
              "      <td>45.13</td>\n",
              "      <td>45132.10</td>\n",
              "    </tr>\n",
              "    <tr>\n",
              "      <th>3</th>\n",
              "      <td>insertionSort</td>\n",
              "      <td>20000</td>\n",
              "      <td>M</td>\n",
              "      <td>34.14</td>\n",
              "      <td>34137.91</td>\n",
              "    </tr>\n",
              "    <tr>\n",
              "      <th>4</th>\n",
              "      <td>insertionSort</td>\n",
              "      <td>10000</td>\n",
              "      <td>C</td>\n",
              "      <td>0.00</td>\n",
              "      <td>4.83</td>\n",
              "    </tr>\n",
              "    <tr>\n",
              "      <th>...</th>\n",
              "      <td>...</td>\n",
              "      <td>...</td>\n",
              "      <td>...</td>\n",
              "      <td>...</td>\n",
              "      <td>...</td>\n",
              "    </tr>\n",
              "    <tr>\n",
              "      <th>75</th>\n",
              "      <td>heapSort</td>\n",
              "      <td>2500</td>\n",
              "      <td>M</td>\n",
              "      <td>0.01</td>\n",
              "      <td>9.48</td>\n",
              "    </tr>\n",
              "    <tr>\n",
              "      <th>76</th>\n",
              "      <td>heapSort</td>\n",
              "      <td>1250</td>\n",
              "      <td>C</td>\n",
              "      <td>0.01</td>\n",
              "      <td>5.02</td>\n",
              "    </tr>\n",
              "    <tr>\n",
              "      <th>77</th>\n",
              "      <td>heapSort</td>\n",
              "      <td>1250</td>\n",
              "      <td>D</td>\n",
              "      <td>0.00</td>\n",
              "      <td>4.26</td>\n",
              "    </tr>\n",
              "    <tr>\n",
              "      <th>78</th>\n",
              "      <td>heapSort</td>\n",
              "      <td>1250</td>\n",
              "      <td>A</td>\n",
              "      <td>0.00</td>\n",
              "      <td>4.99</td>\n",
              "    </tr>\n",
              "    <tr>\n",
              "      <th>79</th>\n",
              "      <td>heapSort</td>\n",
              "      <td>1250</td>\n",
              "      <td>M</td>\n",
              "      <td>0.00</td>\n",
              "      <td>4.92</td>\n",
              "    </tr>\n",
              "  </tbody>\n",
              "</table>\n",
              "<p>80 rows × 5 columns</p>\n",
              "</div>"
            ],
            "text/plain": [
              "        algoritmo  instancia distribuicao  tempo_execucao_s  tempo_execucao_ms\n",
              "0   insertionSort      20000            C              0.01              10.98\n",
              "1   insertionSort      20000            D             93.37           93366.73\n",
              "2   insertionSort      20000            A             45.13           45132.10\n",
              "3   insertionSort      20000            M             34.14           34137.91\n",
              "4   insertionSort      10000            C              0.00               4.83\n",
              "..            ...        ...          ...               ...                ...\n",
              "75       heapSort       2500            M              0.01               9.48\n",
              "76       heapSort       1250            C              0.01               5.02\n",
              "77       heapSort       1250            D              0.00               4.26\n",
              "78       heapSort       1250            A              0.00               4.99\n",
              "79       heapSort       1250            M              0.00               4.92\n",
              "\n",
              "[80 rows x 5 columns]"
            ]
          },
          "metadata": {
            "tags": []
          },
          "execution_count": 83
        }
      ]
    },
    {
      "cell_type": "markdown",
      "metadata": {
        "id": "Q4XLQEol6S1w"
      },
      "source": [
        "Fazemos um comparação geral entre os 4 algoritmos"
      ]
    },
    {
      "cell_type": "code",
      "metadata": {
        "colab": {
          "base_uri": "https://localhost:8080/",
          "height": 599
        },
        "id": "tu9_VQvJBWNW",
        "outputId": "21da2bdb-f65f-46c9-e9d6-7263cf280e02"
      },
      "source": [
        "# Comparação dos 4 algoritmos\n",
        "\n",
        "sns.lmplot(x=\"instancia\", y=\"tempo_execucao_ms\", col=\"algoritmo\", hue=\"algoritmo\", data=df,\n",
        "           col_wrap=2, palette=\"muted\", height=4)\n",
        "plt.show()"
      ],
      "execution_count": 84,
      "outputs": [
        {
          "output_type": "display_data",
          "data": {
            "image/png": "[encoded data removed]",
            "text/plain": [
              "<Figure size 576x576 with 4 Axes>"
            ]
          },
          "metadata": {
            "tags": [],
            "needs_background": "light"
          }
        }
      ]
    },
    {
      "cell_type": "markdown",
      "metadata": {
        "id": "2_jrAYqd6x5U"
      },
      "source": [
        "O gráfico a seguir mostra a diferença dos tempos de execução entre as diferentes distribuições testadas"
      ]
    },
    {
      "cell_type": "code",
      "metadata": {
        "colab": {
          "base_uri": "https://localhost:8080/",
          "height": 295
        },
        "id": "kOsWxV0q3iYx",
        "outputId": "e817b725-f95f-4828-a05d-6babef63cb73"
      },
      "source": [
        "# Gráfico: Tempo de Execução por Distribuição\n",
        "\n",
        "sns.barplot(data=df, y='tempo_execucao_ms', x='distribuicao')\n",
        "plt.title('Tempo de Execução por Distribuição')\n",
        "plt.xlabel('Distribuição')\n",
        "plt.ylabel('Tempo de Execução (em ms)')\n",
        "plt.show()"
      ],
      "execution_count": 85,
      "outputs": [
        {
          "output_type": "display_data",
          "data": {
            "image/png": "[encoded data removed]",
            "text/plain": [
              "<Figure size 432x288 with 1 Axes>"
            ]
          },
          "metadata": {
            "tags": [],
            "needs_background": "light"
          }
        }
      ]
    },
    {
      "cell_type": "markdown",
      "metadata": {
        "id": "8yW3p-4JKmoa"
      },
      "source": [
        "*Normalmente, os dados ordenados de forma decrescente são o \"pior caso\"*"
      ]
    },
    {
      "cell_type": "code",
      "metadata": {
        "colab": {
          "base_uri": "https://localhost:8080/",
          "height": 295
        },
        "id": "UHyO0VrG8H11",
        "outputId": "c23b8d2b-7181-4b9c-da90-a0a3ed9788e6"
      },
      "source": [
        "# Gráfico: Tempo de Execução por Algoritmo\n",
        "\n",
        "sns.barplot(data=df, y='algoritmo', x='tempo_execucao_ms')\n",
        "plt.title('Tempo de Execução por Algoritmo')\n",
        "plt.xlabel('Tempo de Execução (em ms)')\n",
        "plt.ylabel('')\n",
        "plt.show()"
      ],
      "execution_count": 86,
      "outputs": [
        {
          "output_type": "display_data",
          "data": {
            "image/png": "[encoded data removed]",
            "text/plain": [
              "<Figure size 432x288 with 1 Axes>"
            ]
          },
          "metadata": {
            "tags": [],
            "needs_background": "light"
          }
        }
      ]
    },
    {
      "cell_type": "markdown",
      "metadata": {
        "id": "oAhJZkJWKWGK"
      },
      "source": [
        "Podemos perceber que os algoritmos de **mergeSort** e **heapSort** \"não aparecem no gráfico\" pois foram executados muito mais rapidamente que o de **insertionSort** e **selectionSort**"
      ]
    },
    {
      "cell_type": "markdown",
      "metadata": {
        "id": "29oyhV3MLqf7"
      },
      "source": [
        "Temos abaixo o cenário menos eficiente (maior tempo de execução)"
      ]
    },
    {
      "cell_type": "code",
      "metadata": {
        "colab": {
          "base_uri": "https://localhost:8080/"
        },
        "id": "sAHxxHRo8kwG",
        "outputId": "232716ea-2b64-4f5e-f84f-9d6f55d0986e"
      },
      "source": [
        "# Menos eficiente (maior tempo de execução)\n",
        "df.iloc[df['tempo_execucao_ms'].idxmax()]"
      ],
      "execution_count": 87,
      "outputs": [
        {
          "output_type": "execute_result",
          "data": {
            "text/plain": [
              "algoritmo            insertionSort\n",
              "instancia                    20000\n",
              "distribuicao                     D\n",
              "tempo_execucao_s             93.37\n",
              "tempo_execucao_ms          93366.7\n",
              "Name: 1, dtype: object"
            ]
          },
          "metadata": {
            "tags": []
          },
          "execution_count": 87
        }
      ]
    },
    {
      "cell_type": "markdown",
      "metadata": {
        "id": "aCyb-seL7Z_y"
      },
      "source": [
        "E o cenário mais eficiente (menor tempo de execução)"
      ]
    },
    {
      "cell_type": "code",
      "metadata": {
        "colab": {
          "base_uri": "https://localhost:8080/"
        },
        "id": "zKVwC2Kd9l_H",
        "outputId": "2fef93f2-daa7-4efc-94df-33e92a8ba32d"
      },
      "source": [
        "# Mais eficiente (menor tempo de execução)\n",
        "df.iloc[df['tempo_execucao_ms'].idxmin()]"
      ],
      "execution_count": 88,
      "outputs": [
        {
          "output_type": "execute_result",
          "data": {
            "text/plain": [
              "algoritmo            insertionSort\n",
              "instancia                     1250\n",
              "distribuicao                     C\n",
              "tempo_execucao_s                 0\n",
              "tempo_execucao_ms             0.61\n",
              "Name: 16, dtype: object"
            ]
          },
          "metadata": {
            "tags": []
          },
          "execution_count": 88
        }
      ]
    },
    {
      "cell_type": "markdown",
      "metadata": {
        "id": "c2qyvQ0OK7sm"
      },
      "source": [
        "## Analisando os dados de ordenação da máquina do *Manoel*:"
      ]
    },
    {
      "cell_type": "code",
      "metadata": {
        "colab": {
          "base_uri": "https://localhost:8080/",
          "height": 419
        },
        "id": "67Bf6XwqK7MY",
        "outputId": "c4717d3e-ef01-4a79-844d-d0a48a5b1a42"
      },
      "source": [
        "# Carrega os dados da tabela (para criação dos gráficos)\n",
        "df = pd.read_csv('https://raw.githubusercontent.com/Dssdiego/paa_trabalho2/main/tempo_execucao_medio_manoel.csv')\n",
        "df = df.drop(df.columns[0], axis=1) # Elimina a primeira coluna (desnecessária)\n",
        "df"
      ],
      "execution_count": 89,
      "outputs": [
        {
          "output_type": "execute_result",
          "data": {
            "text/html": [
              "<div>\n",
              "<style scoped>\n",
              "    .dataframe tbody tr th:only-of-type {\n",
              "        vertical-align: middle;\n",
              "    }\n",
              "\n",
              "    .dataframe tbody tr th {\n",
              "        vertical-align: top;\n",
              "    }\n",
              "\n",
              "    .dataframe thead th {\n",
              "        text-align: right;\n",
              "    }\n",
              "</style>\n",
              "<table border=\"1\" class=\"dataframe\">\n",
              "  <thead>\n",
              "    <tr style=\"text-align: right;\">\n",
              "      <th></th>\n",
              "      <th>algoritmo</th>\n",
              "      <th>instancia</th>\n",
              "      <th>distribuicao</th>\n",
              "      <th>tempo_execucao_s</th>\n",
              "      <th>tempo_execucao_ms</th>\n",
              "    </tr>\n",
              "  </thead>\n",
              "  <tbody>\n",
              "    <tr>\n",
              "      <th>0</th>\n",
              "      <td>insertionSort</td>\n",
              "      <td>20000</td>\n",
              "      <td>C</td>\n",
              "      <td>0.01</td>\n",
              "      <td>5.86</td>\n",
              "    </tr>\n",
              "    <tr>\n",
              "      <th>1</th>\n",
              "      <td>insertionSort</td>\n",
              "      <td>20000</td>\n",
              "      <td>D</td>\n",
              "      <td>55.31</td>\n",
              "      <td>55309.02</td>\n",
              "    </tr>\n",
              "    <tr>\n",
              "      <th>2</th>\n",
              "      <td>insertionSort</td>\n",
              "      <td>20000</td>\n",
              "      <td>A</td>\n",
              "      <td>27.40</td>\n",
              "      <td>27403.00</td>\n",
              "    </tr>\n",
              "    <tr>\n",
              "      <th>3</th>\n",
              "      <td>insertionSort</td>\n",
              "      <td>20000</td>\n",
              "      <td>M</td>\n",
              "      <td>20.73</td>\n",
              "      <td>20730.97</td>\n",
              "    </tr>\n",
              "    <tr>\n",
              "      <th>4</th>\n",
              "      <td>insertionSort</td>\n",
              "      <td>10000</td>\n",
              "      <td>C</td>\n",
              "      <td>0.00</td>\n",
              "      <td>2.93</td>\n",
              "    </tr>\n",
              "    <tr>\n",
              "      <th>...</th>\n",
              "      <td>...</td>\n",
              "      <td>...</td>\n",
              "      <td>...</td>\n",
              "      <td>...</td>\n",
              "      <td>...</td>\n",
              "    </tr>\n",
              "    <tr>\n",
              "      <th>75</th>\n",
              "      <td>heapSort</td>\n",
              "      <td>2500</td>\n",
              "      <td>M</td>\n",
              "      <td>0.01</td>\n",
              "      <td>5.86</td>\n",
              "    </tr>\n",
              "    <tr>\n",
              "      <th>76</th>\n",
              "      <td>heapSort</td>\n",
              "      <td>1250</td>\n",
              "      <td>C</td>\n",
              "      <td>0.00</td>\n",
              "      <td>2.93</td>\n",
              "    </tr>\n",
              "    <tr>\n",
              "      <th>77</th>\n",
              "      <td>heapSort</td>\n",
              "      <td>1250</td>\n",
              "      <td>D</td>\n",
              "      <td>0.00</td>\n",
              "      <td>2.93</td>\n",
              "    </tr>\n",
              "    <tr>\n",
              "      <th>78</th>\n",
              "      <td>heapSort</td>\n",
              "      <td>1250</td>\n",
              "      <td>A</td>\n",
              "      <td>0.00</td>\n",
              "      <td>2.93</td>\n",
              "    </tr>\n",
              "    <tr>\n",
              "      <th>79</th>\n",
              "      <td>heapSort</td>\n",
              "      <td>1250</td>\n",
              "      <td>M</td>\n",
              "      <td>0.00</td>\n",
              "      <td>2.93</td>\n",
              "    </tr>\n",
              "  </tbody>\n",
              "</table>\n",
              "<p>80 rows × 5 columns</p>\n",
              "</div>"
            ],
            "text/plain": [
              "        algoritmo  instancia distribuicao  tempo_execucao_s  tempo_execucao_ms\n",
              "0   insertionSort      20000            C              0.01               5.86\n",
              "1   insertionSort      20000            D             55.31           55309.02\n",
              "2   insertionSort      20000            A             27.40           27403.00\n",
              "3   insertionSort      20000            M             20.73           20730.97\n",
              "4   insertionSort      10000            C              0.00               2.93\n",
              "..            ...        ...          ...               ...                ...\n",
              "75       heapSort       2500            M              0.01               5.86\n",
              "76       heapSort       1250            C              0.00               2.93\n",
              "77       heapSort       1250            D              0.00               2.93\n",
              "78       heapSort       1250            A              0.00               2.93\n",
              "79       heapSort       1250            M              0.00               2.93\n",
              "\n",
              "[80 rows x 5 columns]"
            ]
          },
          "metadata": {
            "tags": []
          },
          "execution_count": 89
        }
      ]
    },
    {
      "cell_type": "markdown",
      "metadata": {
        "id": "PAdw5LFPMJpA"
      },
      "source": [
        "Fazemos um comparação geral entre os 4 algoritmos"
      ]
    },
    {
      "cell_type": "code",
      "metadata": {
        "colab": {
          "base_uri": "https://localhost:8080/",
          "height": 599
        },
        "id": "PFg361B_La0-",
        "outputId": "4db2c10b-9cfb-4aaf-f6b7-4a92d4aca159"
      },
      "source": [
        "# Comparação dos 4 algoritmos\n",
        "\n",
        "sns.lmplot(x=\"instancia\", y=\"tempo_execucao_ms\", col=\"algoritmo\", hue=\"algoritmo\", data=df,\n",
        "           col_wrap=2, palette=\"muted\", height=4)\n",
        "plt.show()"
      ],
      "execution_count": 90,
      "outputs": [
        {
          "output_type": "display_data",
          "data": {
            "image/png": "[encoded data removed]",
            "text/plain": [
              "<Figure size 576x576 with 4 Axes>"
            ]
          },
          "metadata": {
            "tags": [],
            "needs_background": "light"
          }
        }
      ]
    },
    {
      "cell_type": "markdown",
      "metadata": {
        "id": "_v2c99UKMOu0"
      },
      "source": [
        "O gráfico a seguir mostra a diferença dos tempos de execução entre as diferentes distribuições testadas"
      ]
    },
    {
      "cell_type": "code",
      "metadata": {
        "colab": {
          "base_uri": "https://localhost:8080/",
          "height": 295
        },
        "id": "6cpU4dpGMCL1",
        "outputId": "0dfe5441-7920-4352-bb90-409f71b2aa26"
      },
      "source": [
        "# Gráfico: Tempo de Execução por Distribuição\n",
        "\n",
        "sns.barplot(data=df, y='tempo_execucao_ms', x='distribuicao')\n",
        "plt.title('Tempo de Execução por Distribuição')\n",
        "plt.xlabel('Distribuição')\n",
        "plt.ylabel('Tempo de Execução (em ms)')\n",
        "plt.show()"
      ],
      "execution_count": 95,
      "outputs": [
        {
          "output_type": "display_data",
          "data": {
            "image/png": "[encoded data removed]",
            "text/plain": [
              "<Figure size 432x288 with 1 Axes>"
            ]
          },
          "metadata": {
            "tags": [],
            "needs_background": "light"
          }
        }
      ]
    },
    {
      "cell_type": "markdown",
      "metadata": {
        "id": "ns3IoATsMFki"
      },
      "source": [
        "*Normalmente, os dados ordenados de forma decrescente são o \"pior caso\"*"
      ]
    },
    {
      "cell_type": "code",
      "metadata": {
        "colab": {
          "base_uri": "https://localhost:8080/",
          "height": 295
        },
        "id": "GZQBxcPnL40P",
        "outputId": "50083117-9cdb-4dc7-bb6b-5acd3b070745"
      },
      "source": [
        "# Gráfico: Tempo de Execução por Algoritmo\n",
        "\n",
        "sns.barplot(data=df, y='algoritmo', x='tempo_execucao_ms')\n",
        "plt.title('Tempo de Execução por Algoritmo')\n",
        "plt.xlabel('Tempo de Execução (em ms)')\n",
        "plt.ylabel('')\n",
        "plt.show()"
      ],
      "execution_count": 94,
      "outputs": [
        {
          "output_type": "display_data",
          "data": {
            "image/png": "[encoded data removed]",
            "text/plain": [
              "<Figure size 432x288 with 1 Axes>"
            ]
          },
          "metadata": {
            "tags": [],
            "needs_background": "light"
          }
        }
      ]
    },
    {
      "cell_type": "markdown",
      "metadata": {
        "id": "NmBgNi2LL96K"
      },
      "source": [
        "Podemos perceber que os algoritmos de **mergeSort** e **heapSort** \"não aparecem no gráfico\" pois foram executados muito mais rapidamente que o de **insertionSort** e **selectionSort**"
      ]
    },
    {
      "cell_type": "markdown",
      "metadata": {
        "id": "hitwInD8Ll_B"
      },
      "source": [
        "Temos abaixo o cenário menos eficiente (maior tempo de execução)"
      ]
    },
    {
      "cell_type": "code",
      "metadata": {
        "colab": {
          "base_uri": "https://localhost:8080/"
        },
        "id": "V-MAb_u9Ld_7",
        "outputId": "fa8c298f-51ce-41b4-bdd4-cad6df2223f2"
      },
      "source": [
        "# Menos eficiente (maior tempo de execução)\n",
        "df.iloc[df['tempo_execucao_ms'].idxmax()]"
      ],
      "execution_count": 91,
      "outputs": [
        {
          "output_type": "execute_result",
          "data": {
            "text/plain": [
              "algoritmo            insertionSort\n",
              "instancia                    20000\n",
              "distribuicao                     D\n",
              "tempo_execucao_s             55.31\n",
              "tempo_execucao_ms            55309\n",
              "Name: 1, dtype: object"
            ]
          },
          "metadata": {
            "tags": []
          },
          "execution_count": 91
        }
      ]
    },
    {
      "cell_type": "markdown",
      "metadata": {
        "id": "tTFtNGs3LjVq"
      },
      "source": [
        "E o cenário mais eficiente (menor tempo de execução)"
      ]
    },
    {
      "cell_type": "code",
      "metadata": {
        "colab": {
          "base_uri": "https://localhost:8080/"
        },
        "id": "IdbDUt1mLb-p",
        "outputId": "9216f127-0027-44af-810b-a691416523c6"
      },
      "source": [
        "# Mais eficiente (menor tempo de execução)\n",
        "df.iloc[df['tempo_execucao_ms'].idxmin()]"
      ],
      "execution_count": 92,
      "outputs": [
        {
          "output_type": "execute_result",
          "data": {
            "text/plain": [
              "algoritmo            insertionSort\n",
              "instancia                     2500\n",
              "distribuicao                     C\n",
              "tempo_execucao_s                 0\n",
              "tempo_execucao_ms             0.98\n",
              "Name: 12, dtype: object"
            ]
          },
          "metadata": {
            "tags": []
          },
          "execution_count": 92
        }
      ]
    },
    {
      "cell_type": "markdown",
      "metadata": {
        "id": "pU9ecQd8_ARH"
      },
      "source": [
        "## Conclusão\n",
        "\n",
        "Podemos perceber, pelos dados coletados das análises, que as implementações seguiram o esperado em relação às complexidades já conhecidas destes algoritmos.\n",
        "\n",
        "![alt text](https://raw.githubusercontent.com/Dssdiego/paa_trabalho2/main/images/bigo_algorithms.png \"Big O\")\n",
        "\n",
        "*Retirado do site: https://www.bigocheatsheet.com*\n",
        "\n",
        "### Pontos Positivos\n",
        "\n",
        "Realizar uma implementação em Python através do Colab do Google permitiu uma facilidade na criação dos gráficos e na análise do melhor/pior algoritmo, pois é uma linguagem fácil de se trabalhar e que contém bibliotecas de análise de dados já bem estabelecidas e funcionais.\n",
        "\n",
        "### Dificuldades\n",
        "\n",
        "Tivemos uma dificuldade na análise do desempenho, pois haviam instâncias muito grandes (2 milhões de dados) que ficavam executando por muito tempo, o que nos levou a implementar um timeout para a execução do algoritmo (máximo de 20 minutos, no caso) e a realização da análise para tamanhos de instâncias fracionados.\n"
      ]
    },
    {
      "cell_type": "code",
      "metadata": {
        "id": "etb81mkQ_p5a"
      },
      "source": [
        ""
      ],
      "execution_count": null,
      "outputs": []
    }
  ]
}